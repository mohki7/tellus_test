{
 "cells": [
  {
   "cell_type": "code",
   "execution_count": 1,
   "metadata": {},
   "outputs": [],
   "source": [
    "import os\n",
    "import requests\n",
    "import json\n",
    "import glob\n",
    "import rasterio.mask\n",
    "import fiona\n",
    "\n",
    "import numpy as np\n",
    "import rasterio as rio\n",
    "import matplotlib.pyplot as plt\n",
    "import geopandas as gpd\n",
    "from rasterio.plot import show\n",
    "from rasterio.plot import show_hist"
   ]
  },
  {
   "cell_type": "code",
   "execution_count": 2,
   "metadata": {},
   "outputs": [],
   "source": [
    "with open('api_key.txt', 'r') as f:\n",
    "    token = f.read().strip()"
   ]
  },
  {
   "cell_type": "code",
   "execution_count": 3,
   "metadata": {},
   "outputs": [],
   "source": [
    "dataset_id = 'ea71ef6e-9569-49fc-be16-ba98d876fb73'\n",
    "\n",
    "scenes = [\n",
    "    '12d8698a-4553-4540-9f31-076df70e9616'\n",
    "]"
   ]
  },
  {
   "cell_type": "code",
   "execution_count": 4,
   "metadata": {},
   "outputs": [],
   "source": [
    "# データセットIDとシーンIDから、そのシーンに含まれるファイル名を取得\n",
    "def get_dataset_data_by_id_files(base_path, token, dataset_id, data_id):\n",
    "    print(base_path, token, dataset_id, data_id)\n",
    "    url = f'{base_path}/api/traveler/v1/datasets/{dataset_id}/data/{data_id}/files/'\n",
    "    headers = {\n",
    "        'Authorization': f'Bearer {token}',\n",
    "        'content-type': 'application/json'\n",
    "    }\n",
    "    \n",
    "    r = requests.get(url, headers=headers)\n",
    "    print(r.status_code)\n",
    "    assert r.status_code == 200\n",
    "    return json.loads(r.content)"
   ]
  },
  {
   "cell_type": "code",
   "execution_count": 5,
   "metadata": {},
   "outputs": [],
   "source": [
    "# ファイルIDを指定して、ダウンロードURLを取得\n",
    "def get_dataset_data_by_id_files_by_id_download_url(base_path, token, dataset_id, data_id, file_id):\n",
    "    url = f'{base_path}/api/traveler/v1/datasets/{dataset_id}/data/{data_id}/files/{file_id}/download-url/'\n",
    "    headers = {\n",
    "        'Authorization' : f'Bearer {token}',\n",
    "        'content-type': 'application/json'\n",
    "    }\n",
    "    r = requests.post(url, headers=headers)\n",
    "    assert r.status_code == 200\n",
    "    return json.loads(r.content)"
   ]
  },
  {
   "cell_type": "code",
   "execution_count": 6,
   "metadata": {},
   "outputs": [],
   "source": [
    "def download(scenes, dataset_id, token, dist='./', base_path='https://www.tellusxdp.com'):\n",
    "    for scene_id in scenes:\n",
    "        files = get_dataset_data_by_id_files(base_path, token, dataset_id, scene_id)\n",
    "        print(files)\n",
    "        rawdata = files['results']\n",
    "        path = os.path.join(dist, scene_id)\n",
    "        if len(rawdata) > 0:\n",
    "            for file in rawdata:\n",
    "                file_id = file['id']\n",
    "                file_name = file['name']\n",
    "                \n",
    "                file_path = os.path.join(path, file_name)\n",
    "                \n",
    "                download_url = get_dataset_data_by_id_files_by_id_download_url(base_path, token, dataset_id, scene_id, file_id)['download_url']\n",
    "                \n",
    "                r = requests.get(download_url, stream=True)\n",
    "                \n",
    "                if not os.path.exists(path):\n",
    "                    os.makedirs(path)\n",
    "                \n",
    "                with open(file_path, 'wb') as f:\n",
    "                    for chunk in r.iter_content(chunk_size=1024):\n",
    "                        if chunk:\n",
    "                            f.write(chunk)\n",
    "                            f.flush()"
   ]
  },
  {
   "cell_type": "code",
   "execution_count": 7,
   "metadata": {},
   "outputs": [
    {
     "name": "stdout",
     "output_type": "stream",
     "text": [
      "https://www.tellusxdp.com QU2R@jPB@DTyianyivD97kvvYKG6bnpY ea71ef6e-9569-49fc-be16-ba98d876fb73 12d8698a-4553-4540-9f31-076df70e9616\n",
      "200\n",
      "{'results': [{'size_bytes': 83374760, 'mime_type': 'image/tiff', 'name': 'IMG-03-ALAV2A278862760-OORIRFU_000.tif', 'id': 1, 'status': 'uploaded', 'is_downloadable': True, 'require_archived_file_download': False}, {'size_bytes': 374558, 'mime_type': 'image/png', 'name': 'ALAV2A278862760-OORIRFU-D560P3-20110419-000_thumb.png', 'id': 2, 'status': 'uploaded', 'is_downloadable': True, 'require_archived_file_download': False}, {'size_bytes': 335890, 'mime_type': 'image/png', 'name': 'ALAV2A278862760-OORIRFU_000.png', 'id': 3, 'status': 'uploaded', 'is_downloadable': True, 'require_archived_file_download': False}, {'size_bytes': 83374760, 'mime_type': 'image/tiff', 'name': 'IMG-01-ALAV2A278862760-OORIRFU_000.tif', 'id': 4, 'status': 'uploaded', 'is_downloadable': True, 'require_archived_file_download': False}, {'size_bytes': 978, 'mime_type': 'application/xml', 'name': 'ALAV2A278862760-OORIRFU_000.png.aux.xml', 'id': 5, 'status': 'uploaded', 'is_downloadable': True, 'require_archived_file_download': False}, {'size_bytes': 229825606, 'mime_type': 'image/tiff', 'name': 'ALAV2A278862760_webcog.tif', 'id': 6, 'status': 'uploaded', 'is_downloadable': True, 'require_archived_file_download': False}, {'size_bytes': 83374760, 'mime_type': 'image/tiff', 'name': 'IMG-04-ALAV2A278862760-OORIRFU_000.tif', 'id': 7, 'status': 'uploaded', 'is_downloadable': True, 'require_archived_file_download': False}, {'size_bytes': 1785, 'mime_type': 'binary/octet-stream', 'name': 'HDR-ALAV2A278862760-OORIRFU_000', 'id': 8, 'status': 'uploaded', 'is_downloadable': True, 'require_archived_file_download': False}, {'size_bytes': 83374760, 'mime_type': 'image/tiff', 'name': 'IMG-02-ALAV2A278862760-OORIRFU_000.tif', 'id': 9, 'status': 'uploaded', 'is_downloadable': True, 'require_archived_file_download': False}]}\n"
     ]
    }
   ],
   "source": [
    "download(scenes, dataset_id, token, dist='../data')"
   ]
  },
  {
   "cell_type": "code",
   "execution_count": null,
   "metadata": {},
   "outputs": [],
   "source": []
  },
  {
   "cell_type": "code",
   "execution_count": null,
   "metadata": {},
   "outputs": [],
   "source": []
  },
  {
   "cell_type": "code",
   "execution_count": null,
   "metadata": {},
   "outputs": [],
   "source": []
  }
 ],
 "metadata": {
  "kernelspec": {
   "display_name": "Python 3",
   "language": "python",
   "name": "python3"
  },
  "language_info": {
   "codemirror_mode": {
    "name": "ipython",
    "version": 3
   },
   "file_extension": ".py",
   "mimetype": "text/x-python",
   "name": "python",
   "nbconvert_exporter": "python",
   "pygments_lexer": "ipython3",
   "version": "3.11.3"
  }
 },
 "nbformat": 4,
 "nbformat_minor": 2
}
